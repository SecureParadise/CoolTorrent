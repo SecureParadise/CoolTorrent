{
 "cells": [
  {
   "cell_type": "code",
   "execution_count": 15,
   "metadata": {},
   "outputs": [
    {
     "name": "stdout",
     "output_type": "stream",
     "text": [
      "Vertex \t Distance from source\n",
      "0 \t 0\n",
      "1 \t 4\n",
      "2 \t 12\n",
      "3 \t 19\n",
      "4 \t 21\n",
      "5 \t 11\n",
      "6 \t 9\n",
      "7 \t 8\n",
      "8 \t 14\n"
     ]
    }
   ],
   "source": [
    "import sys\n",
    "class Graph:\n",
    "    def __init__(self,vert):\n",
    "        self.vertex = vert\n",
    "        self.graph = [[0]*vert for _ in range(vert)]\n",
    "    \n",
    "    def printSoln(self,dist):\n",
    "        print(\"Vertex \\t Distance from source\")\n",
    "        for node in range(self.vertex):\n",
    "            print(node,\"\\t\",dist[node])\n",
    "    \n",
    "    def minSize(self,dist,sptSet):\n",
    "        min=sys.maxsize\n",
    "        for u in range(self.vertex):\n",
    "            if dist[u] < min and sptSet[u] == False :\n",
    "                min = dist[u]\n",
    "                min_index = u\n",
    "        return min_index\n",
    "    def dijkastra(self,src):\n",
    "        dist = [sys.maxsize]*self.vertex\n",
    "        dist[src]=0\n",
    "        # shortest path tree set (sptSet)\n",
    "        sptSet = [False] * self.vertex\n",
    "        for cout in range(self.vertex):\n",
    "            x= self.minSize(dist,sptSet)\n",
    "            sptSet[x] = True\n",
    "            for y in range(self.vertex):\n",
    "                if self.graph[x][y] > 0 and sptSet[y] == False and dist[y]>dist[x]+self.graph[x][y]:\n",
    "                    dist[y] = dist[x]+self.graph[x][y]\n",
    "        self.printSoln(dist)\n",
    "\n",
    "\n",
    "g = Graph(9)\n",
    "g.graph = [[0, 4, 0, 0, 0, 0, 0, 8, 0],\n",
    "               [4, 0, 8, 0, 0, 0, 0, 11, 0],\n",
    "               [0, 8, 0, 7, 0, 4, 0, 0, 2],\n",
    "               [0, 0, 7, 0, 9, 14, 0, 0, 0],\n",
    "               [0, 0, 0, 9, 0, 10, 0, 0, 0],\n",
    "               [0, 0, 4, 14, 10, 0, 2, 0, 0],\n",
    "               [0, 0, 0, 0, 0, 2, 0, 1, 6],\n",
    "               [8, 11, 0, 0, 0, 0, 1, 0, 7],\n",
    "               [0, 0, 2, 0, 0, 0, 6, 7, 0]\n",
    "               ]\n",
    "\n",
    "g.dijkastra(0)\n",
    "        "
   ]
  },
  {
   "cell_type": "code",
   "execution_count": null,
   "metadata": {},
   "outputs": [],
   "source": []
  }
 ],
 "metadata": {
  "kernelspec": {
   "display_name": "Python 3",
   "language": "python",
   "name": "python3"
  },
  "language_info": {
   "codemirror_mode": {
    "name": "ipython",
    "version": 3
   },
   "file_extension": ".py",
   "mimetype": "text/x-python",
   "name": "python",
   "nbconvert_exporter": "python",
   "pygments_lexer": "ipython3",
   "version": "3.12.3"
  }
 },
 "nbformat": 4,
 "nbformat_minor": 2
}
